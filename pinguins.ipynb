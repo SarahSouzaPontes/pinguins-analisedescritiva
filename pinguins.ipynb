{
  "nbformat": 4,
  "nbformat_minor": 0,
  "metadata": {
    "colab": {
      "provenance": [],
      "authorship_tag": "ABX9TyNR3EKxrPMu3+JerFLa1l3Z",
      "include_colab_link": true
    },
    "kernelspec": {
      "name": "python3",
      "display_name": "Python 3"
    },
    "language_info": {
      "name": "python"
    },
    "widgets": {
      "application/vnd.jupyter.widget-state+json": {
        "d55cab9746304b149075763dc1533a02": {
          "model_module": "@jupyter-widgets/controls",
          "model_name": "HBoxModel",
          "model_module_version": "1.5.0",
          "state": {
            "_dom_classes": [],
            "_model_module": "@jupyter-widgets/controls",
            "_model_module_version": "1.5.0",
            "_model_name": "HBoxModel",
            "_view_count": null,
            "_view_module": "@jupyter-widgets/controls",
            "_view_module_version": "1.5.0",
            "_view_name": "HBoxView",
            "box_style": "",
            "children": [
              "IPY_MODEL_300cca9793274ad3a958a27028023281",
              "IPY_MODEL_65e7fd21f1474df4ab553466bc7a8b81",
              "IPY_MODEL_b28b902c87dc4c88ae03a7c18f7f4e74"
            ],
            "layout": "IPY_MODEL_e05287be33414a068f547a30f2823396"
          }
        },
        "300cca9793274ad3a958a27028023281": {
          "model_module": "@jupyter-widgets/controls",
          "model_name": "HTMLModel",
          "model_module_version": "1.5.0",
          "state": {
            "_dom_classes": [],
            "_model_module": "@jupyter-widgets/controls",
            "_model_module_version": "1.5.0",
            "_model_name": "HTMLModel",
            "_view_count": null,
            "_view_module": "@jupyter-widgets/controls",
            "_view_module_version": "1.5.0",
            "_view_name": "HTMLView",
            "description": "",
            "description_tooltip": null,
            "layout": "IPY_MODEL_2e5bc8c672e04cdfa2f1c4848e5737d5",
            "placeholder": "​",
            "style": "IPY_MODEL_86bb3b3952a04d41b5ca78de8d0c7546",
            "value": "Done! Use &#x27;show&#x27; commands to display/save.   "
          }
        },
        "65e7fd21f1474df4ab553466bc7a8b81": {
          "model_module": "@jupyter-widgets/controls",
          "model_name": "FloatProgressModel",
          "model_module_version": "1.5.0",
          "state": {
            "_dom_classes": [],
            "_model_module": "@jupyter-widgets/controls",
            "_model_module_version": "1.5.0",
            "_model_name": "FloatProgressModel",
            "_view_count": null,
            "_view_module": "@jupyter-widgets/controls",
            "_view_module_version": "1.5.0",
            "_view_name": "ProgressView",
            "bar_style": "success",
            "description": "",
            "description_tooltip": null,
            "layout": "IPY_MODEL_ba1568ed9eb84293b13093718b16adba",
            "max": 1,
            "min": 0,
            "orientation": "horizontal",
            "style": "IPY_MODEL_0291b7c9b31f4b0c87e3998d20e68be6",
            "value": 1
          }
        },
        "b28b902c87dc4c88ae03a7c18f7f4e74": {
          "model_module": "@jupyter-widgets/controls",
          "model_name": "HTMLModel",
          "model_module_version": "1.5.0",
          "state": {
            "_dom_classes": [],
            "_model_module": "@jupyter-widgets/controls",
            "_model_module_version": "1.5.0",
            "_model_name": "HTMLModel",
            "_view_count": null,
            "_view_module": "@jupyter-widgets/controls",
            "_view_module_version": "1.5.0",
            "_view_name": "HTMLView",
            "description": "",
            "description_tooltip": null,
            "layout": "IPY_MODEL_70e40616e73b457c86e1ae80873984ae",
            "placeholder": "​",
            "style": "IPY_MODEL_8b819798c6974717be066d1ba356bb66",
            "value": " [100%]   00:01 -&gt; (00:00 left)"
          }
        },
        "e05287be33414a068f547a30f2823396": {
          "model_module": "@jupyter-widgets/base",
          "model_name": "LayoutModel",
          "model_module_version": "1.2.0",
          "state": {
            "_model_module": "@jupyter-widgets/base",
            "_model_module_version": "1.2.0",
            "_model_name": "LayoutModel",
            "_view_count": null,
            "_view_module": "@jupyter-widgets/base",
            "_view_module_version": "1.2.0",
            "_view_name": "LayoutView",
            "align_content": null,
            "align_items": null,
            "align_self": null,
            "border": null,
            "bottom": null,
            "display": "inline-flex",
            "flex": null,
            "flex_flow": "row wrap",
            "grid_area": null,
            "grid_auto_columns": null,
            "grid_auto_flow": null,
            "grid_auto_rows": null,
            "grid_column": null,
            "grid_gap": null,
            "grid_row": null,
            "grid_template_areas": null,
            "grid_template_columns": null,
            "grid_template_rows": null,
            "height": null,
            "justify_content": null,
            "justify_items": null,
            "left": null,
            "margin": null,
            "max_height": null,
            "max_width": null,
            "min_height": null,
            "min_width": null,
            "object_fit": null,
            "object_position": null,
            "order": null,
            "overflow": null,
            "overflow_x": null,
            "overflow_y": null,
            "padding": null,
            "right": null,
            "top": null,
            "visibility": null,
            "width": "100%"
          }
        },
        "2e5bc8c672e04cdfa2f1c4848e5737d5": {
          "model_module": "@jupyter-widgets/base",
          "model_name": "LayoutModel",
          "model_module_version": "1.2.0",
          "state": {
            "_model_module": "@jupyter-widgets/base",
            "_model_module_version": "1.2.0",
            "_model_name": "LayoutModel",
            "_view_count": null,
            "_view_module": "@jupyter-widgets/base",
            "_view_module_version": "1.2.0",
            "_view_name": "LayoutView",
            "align_content": null,
            "align_items": null,
            "align_self": null,
            "border": null,
            "bottom": null,
            "display": null,
            "flex": null,
            "flex_flow": null,
            "grid_area": null,
            "grid_auto_columns": null,
            "grid_auto_flow": null,
            "grid_auto_rows": null,
            "grid_column": null,
            "grid_gap": null,
            "grid_row": null,
            "grid_template_areas": null,
            "grid_template_columns": null,
            "grid_template_rows": null,
            "height": null,
            "justify_content": null,
            "justify_items": null,
            "left": null,
            "margin": null,
            "max_height": null,
            "max_width": null,
            "min_height": null,
            "min_width": null,
            "object_fit": null,
            "object_position": null,
            "order": null,
            "overflow": null,
            "overflow_x": null,
            "overflow_y": null,
            "padding": null,
            "right": null,
            "top": null,
            "visibility": null,
            "width": null
          }
        },
        "86bb3b3952a04d41b5ca78de8d0c7546": {
          "model_module": "@jupyter-widgets/controls",
          "model_name": "DescriptionStyleModel",
          "model_module_version": "1.5.0",
          "state": {
            "_model_module": "@jupyter-widgets/controls",
            "_model_module_version": "1.5.0",
            "_model_name": "DescriptionStyleModel",
            "_view_count": null,
            "_view_module": "@jupyter-widgets/base",
            "_view_module_version": "1.2.0",
            "_view_name": "StyleView",
            "description_width": ""
          }
        },
        "ba1568ed9eb84293b13093718b16adba": {
          "model_module": "@jupyter-widgets/base",
          "model_name": "LayoutModel",
          "model_module_version": "1.2.0",
          "state": {
            "_model_module": "@jupyter-widgets/base",
            "_model_module_version": "1.2.0",
            "_model_name": "LayoutModel",
            "_view_count": null,
            "_view_module": "@jupyter-widgets/base",
            "_view_module_version": "1.2.0",
            "_view_name": "LayoutView",
            "align_content": null,
            "align_items": null,
            "align_self": null,
            "border": null,
            "bottom": null,
            "display": null,
            "flex": "2",
            "flex_flow": null,
            "grid_area": null,
            "grid_auto_columns": null,
            "grid_auto_flow": null,
            "grid_auto_rows": null,
            "grid_column": null,
            "grid_gap": null,
            "grid_row": null,
            "grid_template_areas": null,
            "grid_template_columns": null,
            "grid_template_rows": null,
            "height": null,
            "justify_content": null,
            "justify_items": null,
            "left": null,
            "margin": null,
            "max_height": null,
            "max_width": null,
            "min_height": null,
            "min_width": null,
            "object_fit": null,
            "object_position": null,
            "order": null,
            "overflow": null,
            "overflow_x": null,
            "overflow_y": null,
            "padding": null,
            "right": null,
            "top": null,
            "visibility": null,
            "width": null
          }
        },
        "0291b7c9b31f4b0c87e3998d20e68be6": {
          "model_module": "@jupyter-widgets/controls",
          "model_name": "ProgressStyleModel",
          "model_module_version": "1.5.0",
          "state": {
            "_model_module": "@jupyter-widgets/controls",
            "_model_module_version": "1.5.0",
            "_model_name": "ProgressStyleModel",
            "_view_count": null,
            "_view_module": "@jupyter-widgets/base",
            "_view_module_version": "1.2.0",
            "_view_name": "StyleView",
            "bar_color": null,
            "description_width": ""
          }
        },
        "70e40616e73b457c86e1ae80873984ae": {
          "model_module": "@jupyter-widgets/base",
          "model_name": "LayoutModel",
          "model_module_version": "1.2.0",
          "state": {
            "_model_module": "@jupyter-widgets/base",
            "_model_module_version": "1.2.0",
            "_model_name": "LayoutModel",
            "_view_count": null,
            "_view_module": "@jupyter-widgets/base",
            "_view_module_version": "1.2.0",
            "_view_name": "LayoutView",
            "align_content": null,
            "align_items": null,
            "align_self": null,
            "border": null,
            "bottom": null,
            "display": null,
            "flex": null,
            "flex_flow": null,
            "grid_area": null,
            "grid_auto_columns": null,
            "grid_auto_flow": null,
            "grid_auto_rows": null,
            "grid_column": null,
            "grid_gap": null,
            "grid_row": null,
            "grid_template_areas": null,
            "grid_template_columns": null,
            "grid_template_rows": null,
            "height": null,
            "justify_content": null,
            "justify_items": null,
            "left": null,
            "margin": null,
            "max_height": null,
            "max_width": null,
            "min_height": null,
            "min_width": null,
            "object_fit": null,
            "object_position": null,
            "order": null,
            "overflow": null,
            "overflow_x": null,
            "overflow_y": null,
            "padding": null,
            "right": null,
            "top": null,
            "visibility": null,
            "width": null
          }
        },
        "8b819798c6974717be066d1ba356bb66": {
          "model_module": "@jupyter-widgets/controls",
          "model_name": "DescriptionStyleModel",
          "model_module_version": "1.5.0",
          "state": {
            "_model_module": "@jupyter-widgets/controls",
            "_model_module_version": "1.5.0",
            "_model_name": "DescriptionStyleModel",
            "_view_count": null,
            "_view_module": "@jupyter-widgets/base",
            "_view_module_version": "1.2.0",
            "_view_name": "StyleView",
            "description_width": ""
          }
        },
        "63dab6605d90495facfe3b2cc92ee769": {
          "model_module": "@jupyter-widgets/controls",
          "model_name": "HBoxModel",
          "model_module_version": "1.5.0",
          "state": {
            "_dom_classes": [],
            "_model_module": "@jupyter-widgets/controls",
            "_model_module_version": "1.5.0",
            "_model_name": "HBoxModel",
            "_view_count": null,
            "_view_module": "@jupyter-widgets/controls",
            "_view_module_version": "1.5.0",
            "_view_name": "HBoxView",
            "box_style": "",
            "children": [
              "IPY_MODEL_2151e9b816c14fc8903b2fccf7de6b02",
              "IPY_MODEL_781fc28682b7462eb06722153828e5f5",
              "IPY_MODEL_d3212e3e20364de69d3b3d363d908520"
            ],
            "layout": "IPY_MODEL_4aff1935e57e4e1695699532c06d2b76"
          }
        },
        "2151e9b816c14fc8903b2fccf7de6b02": {
          "model_module": "@jupyter-widgets/controls",
          "model_name": "HTMLModel",
          "model_module_version": "1.5.0",
          "state": {
            "_dom_classes": [],
            "_model_module": "@jupyter-widgets/controls",
            "_model_module_version": "1.5.0",
            "_model_name": "HTMLModel",
            "_view_count": null,
            "_view_module": "@jupyter-widgets/controls",
            "_view_module_version": "1.5.0",
            "_view_name": "HTMLView",
            "description": "",
            "description_tooltip": null,
            "layout": "IPY_MODEL_16ed8871118b4fe4a846e7bbeca1cbbb",
            "placeholder": "​",
            "style": "IPY_MODEL_bb799dcbe5884e7ca1575669222eedb6",
            "value": "Summarize dataset: 100%"
          }
        },
        "781fc28682b7462eb06722153828e5f5": {
          "model_module": "@jupyter-widgets/controls",
          "model_name": "FloatProgressModel",
          "model_module_version": "1.5.0",
          "state": {
            "_dom_classes": [],
            "_model_module": "@jupyter-widgets/controls",
            "_model_module_version": "1.5.0",
            "_model_name": "FloatProgressModel",
            "_view_count": null,
            "_view_module": "@jupyter-widgets/controls",
            "_view_module_version": "1.5.0",
            "_view_name": "ProgressView",
            "bar_style": "success",
            "description": "",
            "description_tooltip": null,
            "layout": "IPY_MODEL_0f59fb219b904dccacc96dbcd091ed33",
            "max": 5,
            "min": 0,
            "orientation": "horizontal",
            "style": "IPY_MODEL_bd7519a33c214a66a412d0af569db52a",
            "value": 5
          }
        },
        "d3212e3e20364de69d3b3d363d908520": {
          "model_module": "@jupyter-widgets/controls",
          "model_name": "HTMLModel",
          "model_module_version": "1.5.0",
          "state": {
            "_dom_classes": [],
            "_model_module": "@jupyter-widgets/controls",
            "_model_module_version": "1.5.0",
            "_model_name": "HTMLModel",
            "_view_count": null,
            "_view_module": "@jupyter-widgets/controls",
            "_view_module_version": "1.5.0",
            "_view_name": "HTMLView",
            "description": "",
            "description_tooltip": null,
            "layout": "IPY_MODEL_435ef7caeb674c71acc7ad255ce8ae2c",
            "placeholder": "​",
            "style": "IPY_MODEL_97e64bd3745843f0be775543fc741236",
            "value": " 34/34 [00:06&lt;00:00,  3.86it/s, Completed]"
          }
        },
        "4aff1935e57e4e1695699532c06d2b76": {
          "model_module": "@jupyter-widgets/base",
          "model_name": "LayoutModel",
          "model_module_version": "1.2.0",
          "state": {
            "_model_module": "@jupyter-widgets/base",
            "_model_module_version": "1.2.0",
            "_model_name": "LayoutModel",
            "_view_count": null,
            "_view_module": "@jupyter-widgets/base",
            "_view_module_version": "1.2.0",
            "_view_name": "LayoutView",
            "align_content": null,
            "align_items": null,
            "align_self": null,
            "border": null,
            "bottom": null,
            "display": null,
            "flex": null,
            "flex_flow": null,
            "grid_area": null,
            "grid_auto_columns": null,
            "grid_auto_flow": null,
            "grid_auto_rows": null,
            "grid_column": null,
            "grid_gap": null,
            "grid_row": null,
            "grid_template_areas": null,
            "grid_template_columns": null,
            "grid_template_rows": null,
            "height": null,
            "justify_content": null,
            "justify_items": null,
            "left": null,
            "margin": null,
            "max_height": null,
            "max_width": null,
            "min_height": null,
            "min_width": null,
            "object_fit": null,
            "object_position": null,
            "order": null,
            "overflow": null,
            "overflow_x": null,
            "overflow_y": null,
            "padding": null,
            "right": null,
            "top": null,
            "visibility": null,
            "width": null
          }
        },
        "16ed8871118b4fe4a846e7bbeca1cbbb": {
          "model_module": "@jupyter-widgets/base",
          "model_name": "LayoutModel",
          "model_module_version": "1.2.0",
          "state": {
            "_model_module": "@jupyter-widgets/base",
            "_model_module_version": "1.2.0",
            "_model_name": "LayoutModel",
            "_view_count": null,
            "_view_module": "@jupyter-widgets/base",
            "_view_module_version": "1.2.0",
            "_view_name": "LayoutView",
            "align_content": null,
            "align_items": null,
            "align_self": null,
            "border": null,
            "bottom": null,
            "display": null,
            "flex": null,
            "flex_flow": null,
            "grid_area": null,
            "grid_auto_columns": null,
            "grid_auto_flow": null,
            "grid_auto_rows": null,
            "grid_column": null,
            "grid_gap": null,
            "grid_row": null,
            "grid_template_areas": null,
            "grid_template_columns": null,
            "grid_template_rows": null,
            "height": null,
            "justify_content": null,
            "justify_items": null,
            "left": null,
            "margin": null,
            "max_height": null,
            "max_width": null,
            "min_height": null,
            "min_width": null,
            "object_fit": null,
            "object_position": null,
            "order": null,
            "overflow": null,
            "overflow_x": null,
            "overflow_y": null,
            "padding": null,
            "right": null,
            "top": null,
            "visibility": null,
            "width": null
          }
        },
        "bb799dcbe5884e7ca1575669222eedb6": {
          "model_module": "@jupyter-widgets/controls",
          "model_name": "DescriptionStyleModel",
          "model_module_version": "1.5.0",
          "state": {
            "_model_module": "@jupyter-widgets/controls",
            "_model_module_version": "1.5.0",
            "_model_name": "DescriptionStyleModel",
            "_view_count": null,
            "_view_module": "@jupyter-widgets/base",
            "_view_module_version": "1.2.0",
            "_view_name": "StyleView",
            "description_width": ""
          }
        },
        "0f59fb219b904dccacc96dbcd091ed33": {
          "model_module": "@jupyter-widgets/base",
          "model_name": "LayoutModel",
          "model_module_version": "1.2.0",
          "state": {
            "_model_module": "@jupyter-widgets/base",
            "_model_module_version": "1.2.0",
            "_model_name": "LayoutModel",
            "_view_count": null,
            "_view_module": "@jupyter-widgets/base",
            "_view_module_version": "1.2.0",
            "_view_name": "LayoutView",
            "align_content": null,
            "align_items": null,
            "align_self": null,
            "border": null,
            "bottom": null,
            "display": null,
            "flex": null,
            "flex_flow": null,
            "grid_area": null,
            "grid_auto_columns": null,
            "grid_auto_flow": null,
            "grid_auto_rows": null,
            "grid_column": null,
            "grid_gap": null,
            "grid_row": null,
            "grid_template_areas": null,
            "grid_template_columns": null,
            "grid_template_rows": null,
            "height": null,
            "justify_content": null,
            "justify_items": null,
            "left": null,
            "margin": null,
            "max_height": null,
            "max_width": null,
            "min_height": null,
            "min_width": null,
            "object_fit": null,
            "object_position": null,
            "order": null,
            "overflow": null,
            "overflow_x": null,
            "overflow_y": null,
            "padding": null,
            "right": null,
            "top": null,
            "visibility": null,
            "width": null
          }
        },
        "bd7519a33c214a66a412d0af569db52a": {
          "model_module": "@jupyter-widgets/controls",
          "model_name": "ProgressStyleModel",
          "model_module_version": "1.5.0",
          "state": {
            "_model_module": "@jupyter-widgets/controls",
            "_model_module_version": "1.5.0",
            "_model_name": "ProgressStyleModel",
            "_view_count": null,
            "_view_module": "@jupyter-widgets/base",
            "_view_module_version": "1.2.0",
            "_view_name": "StyleView",
            "bar_color": null,
            "description_width": ""
          }
        },
        "435ef7caeb674c71acc7ad255ce8ae2c": {
          "model_module": "@jupyter-widgets/base",
          "model_name": "LayoutModel",
          "model_module_version": "1.2.0",
          "state": {
            "_model_module": "@jupyter-widgets/base",
            "_model_module_version": "1.2.0",
            "_model_name": "LayoutModel",
            "_view_count": null,
            "_view_module": "@jupyter-widgets/base",
            "_view_module_version": "1.2.0",
            "_view_name": "LayoutView",
            "align_content": null,
            "align_items": null,
            "align_self": null,
            "border": null,
            "bottom": null,
            "display": null,
            "flex": null,
            "flex_flow": null,
            "grid_area": null,
            "grid_auto_columns": null,
            "grid_auto_flow": null,
            "grid_auto_rows": null,
            "grid_column": null,
            "grid_gap": null,
            "grid_row": null,
            "grid_template_areas": null,
            "grid_template_columns": null,
            "grid_template_rows": null,
            "height": null,
            "justify_content": null,
            "justify_items": null,
            "left": null,
            "margin": null,
            "max_height": null,
            "max_width": null,
            "min_height": null,
            "min_width": null,
            "object_fit": null,
            "object_position": null,
            "order": null,
            "overflow": null,
            "overflow_x": null,
            "overflow_y": null,
            "padding": null,
            "right": null,
            "top": null,
            "visibility": null,
            "width": null
          }
        },
        "97e64bd3745843f0be775543fc741236": {
          "model_module": "@jupyter-widgets/controls",
          "model_name": "DescriptionStyleModel",
          "model_module_version": "1.5.0",
          "state": {
            "_model_module": "@jupyter-widgets/controls",
            "_model_module_version": "1.5.0",
            "_model_name": "DescriptionStyleModel",
            "_view_count": null,
            "_view_module": "@jupyter-widgets/base",
            "_view_module_version": "1.2.0",
            "_view_name": "StyleView",
            "description_width": ""
          }
        },
        "4fb467d31ec14be3a40029d5192715c4": {
          "model_module": "@jupyter-widgets/controls",
          "model_name": "HBoxModel",
          "model_module_version": "1.5.0",
          "state": {
            "_dom_classes": [],
            "_model_module": "@jupyter-widgets/controls",
            "_model_module_version": "1.5.0",
            "_model_name": "HBoxModel",
            "_view_count": null,
            "_view_module": "@jupyter-widgets/controls",
            "_view_module_version": "1.5.0",
            "_view_name": "HBoxView",
            "box_style": "",
            "children": [
              "IPY_MODEL_7aec248c89dc43a087bed06134933b8c",
              "IPY_MODEL_13d11372b1a14bbc92a40a5d757408b7",
              "IPY_MODEL_665958582c224beaab96d7f84bf8dced"
            ],
            "layout": "IPY_MODEL_414f9450ac5d432b9ca7fbe0386ff4fc"
          }
        },
        "7aec248c89dc43a087bed06134933b8c": {
          "model_module": "@jupyter-widgets/controls",
          "model_name": "HTMLModel",
          "model_module_version": "1.5.0",
          "state": {
            "_dom_classes": [],
            "_model_module": "@jupyter-widgets/controls",
            "_model_module_version": "1.5.0",
            "_model_name": "HTMLModel",
            "_view_count": null,
            "_view_module": "@jupyter-widgets/controls",
            "_view_module_version": "1.5.0",
            "_view_name": "HTMLView",
            "description": "",
            "description_tooltip": null,
            "layout": "IPY_MODEL_fb7d7daf0a204bbc893d58a7edd3a716",
            "placeholder": "​",
            "style": "IPY_MODEL_94f9c73aaae9417c9381a9ae1f2728c9",
            "value": "Generate report structure: 100%"
          }
        },
        "13d11372b1a14bbc92a40a5d757408b7": {
          "model_module": "@jupyter-widgets/controls",
          "model_name": "FloatProgressModel",
          "model_module_version": "1.5.0",
          "state": {
            "_dom_classes": [],
            "_model_module": "@jupyter-widgets/controls",
            "_model_module_version": "1.5.0",
            "_model_name": "FloatProgressModel",
            "_view_count": null,
            "_view_module": "@jupyter-widgets/controls",
            "_view_module_version": "1.5.0",
            "_view_name": "ProgressView",
            "bar_style": "success",
            "description": "",
            "description_tooltip": null,
            "layout": "IPY_MODEL_f092a50e47ed4f168ac0b59bf86e79de",
            "max": 1,
            "min": 0,
            "orientation": "horizontal",
            "style": "IPY_MODEL_993152203f514b7ea7e348960fd8ac1a",
            "value": 1
          }
        },
        "665958582c224beaab96d7f84bf8dced": {
          "model_module": "@jupyter-widgets/controls",
          "model_name": "HTMLModel",
          "model_module_version": "1.5.0",
          "state": {
            "_dom_classes": [],
            "_model_module": "@jupyter-widgets/controls",
            "_model_module_version": "1.5.0",
            "_model_name": "HTMLModel",
            "_view_count": null,
            "_view_module": "@jupyter-widgets/controls",
            "_view_module_version": "1.5.0",
            "_view_name": "HTMLView",
            "description": "",
            "description_tooltip": null,
            "layout": "IPY_MODEL_91b98737dc9744c4b5ab8c91ebd23865",
            "placeholder": "​",
            "style": "IPY_MODEL_632f9154e46c4db49de659058d884cb3",
            "value": " 1/1 [00:05&lt;00:00,  5.12s/it]"
          }
        },
        "414f9450ac5d432b9ca7fbe0386ff4fc": {
          "model_module": "@jupyter-widgets/base",
          "model_name": "LayoutModel",
          "model_module_version": "1.2.0",
          "state": {
            "_model_module": "@jupyter-widgets/base",
            "_model_module_version": "1.2.0",
            "_model_name": "LayoutModel",
            "_view_count": null,
            "_view_module": "@jupyter-widgets/base",
            "_view_module_version": "1.2.0",
            "_view_name": "LayoutView",
            "align_content": null,
            "align_items": null,
            "align_self": null,
            "border": null,
            "bottom": null,
            "display": null,
            "flex": null,
            "flex_flow": null,
            "grid_area": null,
            "grid_auto_columns": null,
            "grid_auto_flow": null,
            "grid_auto_rows": null,
            "grid_column": null,
            "grid_gap": null,
            "grid_row": null,
            "grid_template_areas": null,
            "grid_template_columns": null,
            "grid_template_rows": null,
            "height": null,
            "justify_content": null,
            "justify_items": null,
            "left": null,
            "margin": null,
            "max_height": null,
            "max_width": null,
            "min_height": null,
            "min_width": null,
            "object_fit": null,
            "object_position": null,
            "order": null,
            "overflow": null,
            "overflow_x": null,
            "overflow_y": null,
            "padding": null,
            "right": null,
            "top": null,
            "visibility": null,
            "width": null
          }
        },
        "fb7d7daf0a204bbc893d58a7edd3a716": {
          "model_module": "@jupyter-widgets/base",
          "model_name": "LayoutModel",
          "model_module_version": "1.2.0",
          "state": {
            "_model_module": "@jupyter-widgets/base",
            "_model_module_version": "1.2.0",
            "_model_name": "LayoutModel",
            "_view_count": null,
            "_view_module": "@jupyter-widgets/base",
            "_view_module_version": "1.2.0",
            "_view_name": "LayoutView",
            "align_content": null,
            "align_items": null,
            "align_self": null,
            "border": null,
            "bottom": null,
            "display": null,
            "flex": null,
            "flex_flow": null,
            "grid_area": null,
            "grid_auto_columns": null,
            "grid_auto_flow": null,
            "grid_auto_rows": null,
            "grid_column": null,
            "grid_gap": null,
            "grid_row": null,
            "grid_template_areas": null,
            "grid_template_columns": null,
            "grid_template_rows": null,
            "height": null,
            "justify_content": null,
            "justify_items": null,
            "left": null,
            "margin": null,
            "max_height": null,
            "max_width": null,
            "min_height": null,
            "min_width": null,
            "object_fit": null,
            "object_position": null,
            "order": null,
            "overflow": null,
            "overflow_x": null,
            "overflow_y": null,
            "padding": null,
            "right": null,
            "top": null,
            "visibility": null,
            "width": null
          }
        },
        "94f9c73aaae9417c9381a9ae1f2728c9": {
          "model_module": "@jupyter-widgets/controls",
          "model_name": "DescriptionStyleModel",
          "model_module_version": "1.5.0",
          "state": {
            "_model_module": "@jupyter-widgets/controls",
            "_model_module_version": "1.5.0",
            "_model_name": "DescriptionStyleModel",
            "_view_count": null,
            "_view_module": "@jupyter-widgets/base",
            "_view_module_version": "1.2.0",
            "_view_name": "StyleView",
            "description_width": ""
          }
        },
        "f092a50e47ed4f168ac0b59bf86e79de": {
          "model_module": "@jupyter-widgets/base",
          "model_name": "LayoutModel",
          "model_module_version": "1.2.0",
          "state": {
            "_model_module": "@jupyter-widgets/base",
            "_model_module_version": "1.2.0",
            "_model_name": "LayoutModel",
            "_view_count": null,
            "_view_module": "@jupyter-widgets/base",
            "_view_module_version": "1.2.0",
            "_view_name": "LayoutView",
            "align_content": null,
            "align_items": null,
            "align_self": null,
            "border": null,
            "bottom": null,
            "display": null,
            "flex": null,
            "flex_flow": null,
            "grid_area": null,
            "grid_auto_columns": null,
            "grid_auto_flow": null,
            "grid_auto_rows": null,
            "grid_column": null,
            "grid_gap": null,
            "grid_row": null,
            "grid_template_areas": null,
            "grid_template_columns": null,
            "grid_template_rows": null,
            "height": null,
            "justify_content": null,
            "justify_items": null,
            "left": null,
            "margin": null,
            "max_height": null,
            "max_width": null,
            "min_height": null,
            "min_width": null,
            "object_fit": null,
            "object_position": null,
            "order": null,
            "overflow": null,
            "overflow_x": null,
            "overflow_y": null,
            "padding": null,
            "right": null,
            "top": null,
            "visibility": null,
            "width": null
          }
        },
        "993152203f514b7ea7e348960fd8ac1a": {
          "model_module": "@jupyter-widgets/controls",
          "model_name": "ProgressStyleModel",
          "model_module_version": "1.5.0",
          "state": {
            "_model_module": "@jupyter-widgets/controls",
            "_model_module_version": "1.5.0",
            "_model_name": "ProgressStyleModel",
            "_view_count": null,
            "_view_module": "@jupyter-widgets/base",
            "_view_module_version": "1.2.0",
            "_view_name": "StyleView",
            "bar_color": null,
            "description_width": ""
          }
        },
        "91b98737dc9744c4b5ab8c91ebd23865": {
          "model_module": "@jupyter-widgets/base",
          "model_name": "LayoutModel",
          "model_module_version": "1.2.0",
          "state": {
            "_model_module": "@jupyter-widgets/base",
            "_model_module_version": "1.2.0",
            "_model_name": "LayoutModel",
            "_view_count": null,
            "_view_module": "@jupyter-widgets/base",
            "_view_module_version": "1.2.0",
            "_view_name": "LayoutView",
            "align_content": null,
            "align_items": null,
            "align_self": null,
            "border": null,
            "bottom": null,
            "display": null,
            "flex": null,
            "flex_flow": null,
            "grid_area": null,
            "grid_auto_columns": null,
            "grid_auto_flow": null,
            "grid_auto_rows": null,
            "grid_column": null,
            "grid_gap": null,
            "grid_row": null,
            "grid_template_areas": null,
            "grid_template_columns": null,
            "grid_template_rows": null,
            "height": null,
            "justify_content": null,
            "justify_items": null,
            "left": null,
            "margin": null,
            "max_height": null,
            "max_width": null,
            "min_height": null,
            "min_width": null,
            "object_fit": null,
            "object_position": null,
            "order": null,
            "overflow": null,
            "overflow_x": null,
            "overflow_y": null,
            "padding": null,
            "right": null,
            "top": null,
            "visibility": null,
            "width": null
          }
        },
        "632f9154e46c4db49de659058d884cb3": {
          "model_module": "@jupyter-widgets/controls",
          "model_name": "DescriptionStyleModel",
          "model_module_version": "1.5.0",
          "state": {
            "_model_module": "@jupyter-widgets/controls",
            "_model_module_version": "1.5.0",
            "_model_name": "DescriptionStyleModel",
            "_view_count": null,
            "_view_module": "@jupyter-widgets/base",
            "_view_module_version": "1.2.0",
            "_view_name": "StyleView",
            "description_width": ""
          }
        },
        "a66590bc10a547d99db3b020a7c820ba": {
          "model_module": "@jupyter-widgets/controls",
          "model_name": "HBoxModel",
          "model_module_version": "1.5.0",
          "state": {
            "_dom_classes": [],
            "_model_module": "@jupyter-widgets/controls",
            "_model_module_version": "1.5.0",
            "_model_name": "HBoxModel",
            "_view_count": null,
            "_view_module": "@jupyter-widgets/controls",
            "_view_module_version": "1.5.0",
            "_view_name": "HBoxView",
            "box_style": "",
            "children": [
              "IPY_MODEL_3af571341b1a458a90ed94cc087fb639",
              "IPY_MODEL_5eb588226b964af990e57500983f0f75",
              "IPY_MODEL_cc7ebab91afc44bbb58a6a030db9ceda"
            ],
            "layout": "IPY_MODEL_066908b55251459385f3e40f01dea84f"
          }
        },
        "3af571341b1a458a90ed94cc087fb639": {
          "model_module": "@jupyter-widgets/controls",
          "model_name": "HTMLModel",
          "model_module_version": "1.5.0",
          "state": {
            "_dom_classes": [],
            "_model_module": "@jupyter-widgets/controls",
            "_model_module_version": "1.5.0",
            "_model_name": "HTMLModel",
            "_view_count": null,
            "_view_module": "@jupyter-widgets/controls",
            "_view_module_version": "1.5.0",
            "_view_name": "HTMLView",
            "description": "",
            "description_tooltip": null,
            "layout": "IPY_MODEL_45d25455c1ef42d092de3ad7c762b9ec",
            "placeholder": "​",
            "style": "IPY_MODEL_06bac97f678b41a7a19b14c08a08497b",
            "value": "Render HTML: 100%"
          }
        },
        "5eb588226b964af990e57500983f0f75": {
          "model_module": "@jupyter-widgets/controls",
          "model_name": "FloatProgressModel",
          "model_module_version": "1.5.0",
          "state": {
            "_dom_classes": [],
            "_model_module": "@jupyter-widgets/controls",
            "_model_module_version": "1.5.0",
            "_model_name": "FloatProgressModel",
            "_view_count": null,
            "_view_module": "@jupyter-widgets/controls",
            "_view_module_version": "1.5.0",
            "_view_name": "ProgressView",
            "bar_style": "success",
            "description": "",
            "description_tooltip": null,
            "layout": "IPY_MODEL_6b164dd697c14ebb9bdba46b87c0af5a",
            "max": 1,
            "min": 0,
            "orientation": "horizontal",
            "style": "IPY_MODEL_2829fa5138a04069a84f447d839a7196",
            "value": 1
          }
        },
        "cc7ebab91afc44bbb58a6a030db9ceda": {
          "model_module": "@jupyter-widgets/controls",
          "model_name": "HTMLModel",
          "model_module_version": "1.5.0",
          "state": {
            "_dom_classes": [],
            "_model_module": "@jupyter-widgets/controls",
            "_model_module_version": "1.5.0",
            "_model_name": "HTMLModel",
            "_view_count": null,
            "_view_module": "@jupyter-widgets/controls",
            "_view_module_version": "1.5.0",
            "_view_name": "HTMLView",
            "description": "",
            "description_tooltip": null,
            "layout": "IPY_MODEL_0df530993a4e4b01ba3d81c570f8f803",
            "placeholder": "​",
            "style": "IPY_MODEL_474dda6404c6426badb919da7e18d4d2",
            "value": " 1/1 [00:00&lt;00:00,  1.09it/s]"
          }
        },
        "066908b55251459385f3e40f01dea84f": {
          "model_module": "@jupyter-widgets/base",
          "model_name": "LayoutModel",
          "model_module_version": "1.2.0",
          "state": {
            "_model_module": "@jupyter-widgets/base",
            "_model_module_version": "1.2.0",
            "_model_name": "LayoutModel",
            "_view_count": null,
            "_view_module": "@jupyter-widgets/base",
            "_view_module_version": "1.2.0",
            "_view_name": "LayoutView",
            "align_content": null,
            "align_items": null,
            "align_self": null,
            "border": null,
            "bottom": null,
            "display": null,
            "flex": null,
            "flex_flow": null,
            "grid_area": null,
            "grid_auto_columns": null,
            "grid_auto_flow": null,
            "grid_auto_rows": null,
            "grid_column": null,
            "grid_gap": null,
            "grid_row": null,
            "grid_template_areas": null,
            "grid_template_columns": null,
            "grid_template_rows": null,
            "height": null,
            "justify_content": null,
            "justify_items": null,
            "left": null,
            "margin": null,
            "max_height": null,
            "max_width": null,
            "min_height": null,
            "min_width": null,
            "object_fit": null,
            "object_position": null,
            "order": null,
            "overflow": null,
            "overflow_x": null,
            "overflow_y": null,
            "padding": null,
            "right": null,
            "top": null,
            "visibility": null,
            "width": null
          }
        },
        "45d25455c1ef42d092de3ad7c762b9ec": {
          "model_module": "@jupyter-widgets/base",
          "model_name": "LayoutModel",
          "model_module_version": "1.2.0",
          "state": {
            "_model_module": "@jupyter-widgets/base",
            "_model_module_version": "1.2.0",
            "_model_name": "LayoutModel",
            "_view_count": null,
            "_view_module": "@jupyter-widgets/base",
            "_view_module_version": "1.2.0",
            "_view_name": "LayoutView",
            "align_content": null,
            "align_items": null,
            "align_self": null,
            "border": null,
            "bottom": null,
            "display": null,
            "flex": null,
            "flex_flow": null,
            "grid_area": null,
            "grid_auto_columns": null,
            "grid_auto_flow": null,
            "grid_auto_rows": null,
            "grid_column": null,
            "grid_gap": null,
            "grid_row": null,
            "grid_template_areas": null,
            "grid_template_columns": null,
            "grid_template_rows": null,
            "height": null,
            "justify_content": null,
            "justify_items": null,
            "left": null,
            "margin": null,
            "max_height": null,
            "max_width": null,
            "min_height": null,
            "min_width": null,
            "object_fit": null,
            "object_position": null,
            "order": null,
            "overflow": null,
            "overflow_x": null,
            "overflow_y": null,
            "padding": null,
            "right": null,
            "top": null,
            "visibility": null,
            "width": null
          }
        },
        "06bac97f678b41a7a19b14c08a08497b": {
          "model_module": "@jupyter-widgets/controls",
          "model_name": "DescriptionStyleModel",
          "model_module_version": "1.5.0",
          "state": {
            "_model_module": "@jupyter-widgets/controls",
            "_model_module_version": "1.5.0",
            "_model_name": "DescriptionStyleModel",
            "_view_count": null,
            "_view_module": "@jupyter-widgets/base",
            "_view_module_version": "1.2.0",
            "_view_name": "StyleView",
            "description_width": ""
          }
        },
        "6b164dd697c14ebb9bdba46b87c0af5a": {
          "model_module": "@jupyter-widgets/base",
          "model_name": "LayoutModel",
          "model_module_version": "1.2.0",
          "state": {
            "_model_module": "@jupyter-widgets/base",
            "_model_module_version": "1.2.0",
            "_model_name": "LayoutModel",
            "_view_count": null,
            "_view_module": "@jupyter-widgets/base",
            "_view_module_version": "1.2.0",
            "_view_name": "LayoutView",
            "align_content": null,
            "align_items": null,
            "align_self": null,
            "border": null,
            "bottom": null,
            "display": null,
            "flex": null,
            "flex_flow": null,
            "grid_area": null,
            "grid_auto_columns": null,
            "grid_auto_flow": null,
            "grid_auto_rows": null,
            "grid_column": null,
            "grid_gap": null,
            "grid_row": null,
            "grid_template_areas": null,
            "grid_template_columns": null,
            "grid_template_rows": null,
            "height": null,
            "justify_content": null,
            "justify_items": null,
            "left": null,
            "margin": null,
            "max_height": null,
            "max_width": null,
            "min_height": null,
            "min_width": null,
            "object_fit": null,
            "object_position": null,
            "order": null,
            "overflow": null,
            "overflow_x": null,
            "overflow_y": null,
            "padding": null,
            "right": null,
            "top": null,
            "visibility": null,
            "width": null
          }
        },
        "2829fa5138a04069a84f447d839a7196": {
          "model_module": "@jupyter-widgets/controls",
          "model_name": "ProgressStyleModel",
          "model_module_version": "1.5.0",
          "state": {
            "_model_module": "@jupyter-widgets/controls",
            "_model_module_version": "1.5.0",
            "_model_name": "ProgressStyleModel",
            "_view_count": null,
            "_view_module": "@jupyter-widgets/base",
            "_view_module_version": "1.2.0",
            "_view_name": "StyleView",
            "bar_color": null,
            "description_width": ""
          }
        },
        "0df530993a4e4b01ba3d81c570f8f803": {
          "model_module": "@jupyter-widgets/base",
          "model_name": "LayoutModel",
          "model_module_version": "1.2.0",
          "state": {
            "_model_module": "@jupyter-widgets/base",
            "_model_module_version": "1.2.0",
            "_model_name": "LayoutModel",
            "_view_count": null,
            "_view_module": "@jupyter-widgets/base",
            "_view_module_version": "1.2.0",
            "_view_name": "LayoutView",
            "align_content": null,
            "align_items": null,
            "align_self": null,
            "border": null,
            "bottom": null,
            "display": null,
            "flex": null,
            "flex_flow": null,
            "grid_area": null,
            "grid_auto_columns": null,
            "grid_auto_flow": null,
            "grid_auto_rows": null,
            "grid_column": null,
            "grid_gap": null,
            "grid_row": null,
            "grid_template_areas": null,
            "grid_template_columns": null,
            "grid_template_rows": null,
            "height": null,
            "justify_content": null,
            "justify_items": null,
            "left": null,
            "margin": null,
            "max_height": null,
            "max_width": null,
            "min_height": null,
            "min_width": null,
            "object_fit": null,
            "object_position": null,
            "order": null,
            "overflow": null,
            "overflow_x": null,
            "overflow_y": null,
            "padding": null,
            "right": null,
            "top": null,
            "visibility": null,
            "width": null
          }
        },
        "474dda6404c6426badb919da7e18d4d2": {
          "model_module": "@jupyter-widgets/controls",
          "model_name": "DescriptionStyleModel",
          "model_module_version": "1.5.0",
          "state": {
            "_model_module": "@jupyter-widgets/controls",
            "_model_module_version": "1.5.0",
            "_model_name": "DescriptionStyleModel",
            "_view_count": null,
            "_view_module": "@jupyter-widgets/base",
            "_view_module_version": "1.2.0",
            "_view_name": "StyleView",
            "description_width": ""
          }
        },
        "74d8e2ef42204672a08dda8502ee91c8": {
          "model_module": "@jupyter-widgets/controls",
          "model_name": "HBoxModel",
          "model_module_version": "1.5.0",
          "state": {
            "_dom_classes": [],
            "_model_module": "@jupyter-widgets/controls",
            "_model_module_version": "1.5.0",
            "_model_name": "HBoxModel",
            "_view_count": null,
            "_view_module": "@jupyter-widgets/controls",
            "_view_module_version": "1.5.0",
            "_view_name": "HBoxView",
            "box_style": "",
            "children": [
              "IPY_MODEL_448994bac16c48839ac0b1f798d2b5a5",
              "IPY_MODEL_cf7183cd813947c9812589833fb5d5a6",
              "IPY_MODEL_e763f99870b343f5aab3f18e04c8ffaf"
            ],
            "layout": "IPY_MODEL_f94698b5fab24bcd91a2e99aa283970b"
          }
        },
        "448994bac16c48839ac0b1f798d2b5a5": {
          "model_module": "@jupyter-widgets/controls",
          "model_name": "HTMLModel",
          "model_module_version": "1.5.0",
          "state": {
            "_dom_classes": [],
            "_model_module": "@jupyter-widgets/controls",
            "_model_module_version": "1.5.0",
            "_model_name": "HTMLModel",
            "_view_count": null,
            "_view_module": "@jupyter-widgets/controls",
            "_view_module_version": "1.5.0",
            "_view_name": "HTMLView",
            "description": "",
            "description_tooltip": null,
            "layout": "IPY_MODEL_f18637d7b8e641d7b9f69ff2ae17800d",
            "placeholder": "​",
            "style": "IPY_MODEL_1db96b78138b4eacae54bce100f09a4f",
            "value": "Export report to file: 100%"
          }
        },
        "cf7183cd813947c9812589833fb5d5a6": {
          "model_module": "@jupyter-widgets/controls",
          "model_name": "FloatProgressModel",
          "model_module_version": "1.5.0",
          "state": {
            "_dom_classes": [],
            "_model_module": "@jupyter-widgets/controls",
            "_model_module_version": "1.5.0",
            "_model_name": "FloatProgressModel",
            "_view_count": null,
            "_view_module": "@jupyter-widgets/controls",
            "_view_module_version": "1.5.0",
            "_view_name": "ProgressView",
            "bar_style": "success",
            "description": "",
            "description_tooltip": null,
            "layout": "IPY_MODEL_99de3f7d6503445ea72d2dfab69b6727",
            "max": 1,
            "min": 0,
            "orientation": "horizontal",
            "style": "IPY_MODEL_f9fc28c6cfce497591eb4f102136d227",
            "value": 1
          }
        },
        "e763f99870b343f5aab3f18e04c8ffaf": {
          "model_module": "@jupyter-widgets/controls",
          "model_name": "HTMLModel",
          "model_module_version": "1.5.0",
          "state": {
            "_dom_classes": [],
            "_model_module": "@jupyter-widgets/controls",
            "_model_module_version": "1.5.0",
            "_model_name": "HTMLModel",
            "_view_count": null,
            "_view_module": "@jupyter-widgets/controls",
            "_view_module_version": "1.5.0",
            "_view_name": "HTMLView",
            "description": "",
            "description_tooltip": null,
            "layout": "IPY_MODEL_9c58d9aade414dada84a78c85e70c7a7",
            "placeholder": "​",
            "style": "IPY_MODEL_917a0802411546718f19f1533e8a29e7",
            "value": " 1/1 [00:00&lt;00:00, 23.78it/s]"
          }
        },
        "f94698b5fab24bcd91a2e99aa283970b": {
          "model_module": "@jupyter-widgets/base",
          "model_name": "LayoutModel",
          "model_module_version": "1.2.0",
          "state": {
            "_model_module": "@jupyter-widgets/base",
            "_model_module_version": "1.2.0",
            "_model_name": "LayoutModel",
            "_view_count": null,
            "_view_module": "@jupyter-widgets/base",
            "_view_module_version": "1.2.0",
            "_view_name": "LayoutView",
            "align_content": null,
            "align_items": null,
            "align_self": null,
            "border": null,
            "bottom": null,
            "display": null,
            "flex": null,
            "flex_flow": null,
            "grid_area": null,
            "grid_auto_columns": null,
            "grid_auto_flow": null,
            "grid_auto_rows": null,
            "grid_column": null,
            "grid_gap": null,
            "grid_row": null,
            "grid_template_areas": null,
            "grid_template_columns": null,
            "grid_template_rows": null,
            "height": null,
            "justify_content": null,
            "justify_items": null,
            "left": null,
            "margin": null,
            "max_height": null,
            "max_width": null,
            "min_height": null,
            "min_width": null,
            "object_fit": null,
            "object_position": null,
            "order": null,
            "overflow": null,
            "overflow_x": null,
            "overflow_y": null,
            "padding": null,
            "right": null,
            "top": null,
            "visibility": null,
            "width": null
          }
        },
        "f18637d7b8e641d7b9f69ff2ae17800d": {
          "model_module": "@jupyter-widgets/base",
          "model_name": "LayoutModel",
          "model_module_version": "1.2.0",
          "state": {
            "_model_module": "@jupyter-widgets/base",
            "_model_module_version": "1.2.0",
            "_model_name": "LayoutModel",
            "_view_count": null,
            "_view_module": "@jupyter-widgets/base",
            "_view_module_version": "1.2.0",
            "_view_name": "LayoutView",
            "align_content": null,
            "align_items": null,
            "align_self": null,
            "border": null,
            "bottom": null,
            "display": null,
            "flex": null,
            "flex_flow": null,
            "grid_area": null,
            "grid_auto_columns": null,
            "grid_auto_flow": null,
            "grid_auto_rows": null,
            "grid_column": null,
            "grid_gap": null,
            "grid_row": null,
            "grid_template_areas": null,
            "grid_template_columns": null,
            "grid_template_rows": null,
            "height": null,
            "justify_content": null,
            "justify_items": null,
            "left": null,
            "margin": null,
            "max_height": null,
            "max_width": null,
            "min_height": null,
            "min_width": null,
            "object_fit": null,
            "object_position": null,
            "order": null,
            "overflow": null,
            "overflow_x": null,
            "overflow_y": null,
            "padding": null,
            "right": null,
            "top": null,
            "visibility": null,
            "width": null
          }
        },
        "1db96b78138b4eacae54bce100f09a4f": {
          "model_module": "@jupyter-widgets/controls",
          "model_name": "DescriptionStyleModel",
          "model_module_version": "1.5.0",
          "state": {
            "_model_module": "@jupyter-widgets/controls",
            "_model_module_version": "1.5.0",
            "_model_name": "DescriptionStyleModel",
            "_view_count": null,
            "_view_module": "@jupyter-widgets/base",
            "_view_module_version": "1.2.0",
            "_view_name": "StyleView",
            "description_width": ""
          }
        },
        "99de3f7d6503445ea72d2dfab69b6727": {
          "model_module": "@jupyter-widgets/base",
          "model_name": "LayoutModel",
          "model_module_version": "1.2.0",
          "state": {
            "_model_module": "@jupyter-widgets/base",
            "_model_module_version": "1.2.0",
            "_model_name": "LayoutModel",
            "_view_count": null,
            "_view_module": "@jupyter-widgets/base",
            "_view_module_version": "1.2.0",
            "_view_name": "LayoutView",
            "align_content": null,
            "align_items": null,
            "align_self": null,
            "border": null,
            "bottom": null,
            "display": null,
            "flex": null,
            "flex_flow": null,
            "grid_area": null,
            "grid_auto_columns": null,
            "grid_auto_flow": null,
            "grid_auto_rows": null,
            "grid_column": null,
            "grid_gap": null,
            "grid_row": null,
            "grid_template_areas": null,
            "grid_template_columns": null,
            "grid_template_rows": null,
            "height": null,
            "justify_content": null,
            "justify_items": null,
            "left": null,
            "margin": null,
            "max_height": null,
            "max_width": null,
            "min_height": null,
            "min_width": null,
            "object_fit": null,
            "object_position": null,
            "order": null,
            "overflow": null,
            "overflow_x": null,
            "overflow_y": null,
            "padding": null,
            "right": null,
            "top": null,
            "visibility": null,
            "width": null
          }
        },
        "f9fc28c6cfce497591eb4f102136d227": {
          "model_module": "@jupyter-widgets/controls",
          "model_name": "ProgressStyleModel",
          "model_module_version": "1.5.0",
          "state": {
            "_model_module": "@jupyter-widgets/controls",
            "_model_module_version": "1.5.0",
            "_model_name": "ProgressStyleModel",
            "_view_count": null,
            "_view_module": "@jupyter-widgets/base",
            "_view_module_version": "1.2.0",
            "_view_name": "StyleView",
            "bar_color": null,
            "description_width": ""
          }
        },
        "9c58d9aade414dada84a78c85e70c7a7": {
          "model_module": "@jupyter-widgets/base",
          "model_name": "LayoutModel",
          "model_module_version": "1.2.0",
          "state": {
            "_model_module": "@jupyter-widgets/base",
            "_model_module_version": "1.2.0",
            "_model_name": "LayoutModel",
            "_view_count": null,
            "_view_module": "@jupyter-widgets/base",
            "_view_module_version": "1.2.0",
            "_view_name": "LayoutView",
            "align_content": null,
            "align_items": null,
            "align_self": null,
            "border": null,
            "bottom": null,
            "display": null,
            "flex": null,
            "flex_flow": null,
            "grid_area": null,
            "grid_auto_columns": null,
            "grid_auto_flow": null,
            "grid_auto_rows": null,
            "grid_column": null,
            "grid_gap": null,
            "grid_row": null,
            "grid_template_areas": null,
            "grid_template_columns": null,
            "grid_template_rows": null,
            "height": null,
            "justify_content": null,
            "justify_items": null,
            "left": null,
            "margin": null,
            "max_height": null,
            "max_width": null,
            "min_height": null,
            "min_width": null,
            "object_fit": null,
            "object_position": null,
            "order": null,
            "overflow": null,
            "overflow_x": null,
            "overflow_y": null,
            "padding": null,
            "right": null,
            "top": null,
            "visibility": null,
            "width": null
          }
        },
        "917a0802411546718f19f1533e8a29e7": {
          "model_module": "@jupyter-widgets/controls",
          "model_name": "DescriptionStyleModel",
          "model_module_version": "1.5.0",
          "state": {
            "_model_module": "@jupyter-widgets/controls",
            "_model_module_version": "1.5.0",
            "_model_name": "DescriptionStyleModel",
            "_view_count": null,
            "_view_module": "@jupyter-widgets/base",
            "_view_module_version": "1.2.0",
            "_view_name": "StyleView",
            "description_width": ""
          }
        }
      }
    }
  },
  "cells": [
    {
      "cell_type": "markdown",
      "metadata": {
        "id": "view-in-github",
        "colab_type": "text"
      },
      "source": [
        "<a href=\"https://colab.research.google.com/github/SarahSouzaPontes/pinguins-analisedescritiva/blob/main/pinguins.ipynb\" target=\"_parent\"><img src=\"https://colab.research.google.com/assets/colab-badge.svg\" alt=\"Open In Colab\"/></a>"
      ]
    },
    {
      "cell_type": "code",
      "execution_count": 1,
      "metadata": {
        "colab": {
          "base_uri": "https://localhost:8080/"
        },
        "id": "1W9THVCwPZ4a",
        "outputId": "34114d25-f79e-470b-c08a-60488111343e"
      },
      "outputs": [
        {
          "output_type": "stream",
          "name": "stdout",
          "text": [
            "Mounted at /content/drive\n"
          ]
        }
      ],
      "source": [
        "from google.colab import drive\n",
        "drive.mount('/content/drive')\n"
      ]
    },
    {
      "cell_type": "markdown",
      "source": [
        "Título: Explorando a Vida dos Pinguins nas Ilhas Antárticas\n",
        "\n",
        "Introdução:\n",
        "Nesta história, vamos mergulhar no fascinante mundo dos pinguins nas ilhas antárticas, explorando uma coleção de dados que nos revela informações sobre suas diferentes espécies, características físicas, locais de observação e outras informações interessantes.\n",
        "\n",
        "Capítulo 1: Variedade de Espécies\n",
        "O nosso primeiro ponto de partida é a diversidade das espécies de pinguins. Descobrimos três espécies únicas: Adélia, Pintado e Papúa. Cada uma delas tem suas próprias características distintas e comportamentos peculiares.\n",
        "\n",
        "Capítulo 2: Habitat nas Ilhas\n",
        "As ilhas antárticas servem como o habitat para esses adoráveis habitantes. Entre as ilhas de Torgersen, Biscoe e Dream, eles têm suas casas, e podemos explorar como suas preferências de habitat variam e o que os leva a escolher uma ilha sobre outra.\n",
        "\n",
        "Capítulo 3: A Anatomia dos Pinguins\n",
        "A anatomia dos pinguins também é intrigante. Observamos como o comprimento e a profundidade do bico, bem como o comprimento da nadadeira, variam entre as diferentes espécies. Essas características podem desempenhar um papel crucial em sua sobrevivência e adaptação ao ambiente.\n",
        "\n",
        "Capítulo 4: Massa Corporal e Adaptação\n",
        "A massa corporal dos pinguins, medida em gramas, revela informações sobre seu estado físico e saúde. Diferentes espécies podem ter diferentes massas corporais, o que pode indicar como elas se adaptam às condições climáticas rigorosas da Antártica.\n",
        "\n",
        "Capítulo 5: Identidade de Gênero e Ano de Observação\n",
        "Além das características físicas, também exploramos o sexo dos pinguins (macho ou fêmea) e o ano em que foram observados. Isso nos ajuda a entender melhor seus padrões de comportamento e como eles evoluíram ao longo do tempo.\n",
        "\n",
        "Conclusão:\n",
        "Ao mergulhar nas variáveis que compõem a vida dos pinguins nas ilhas antárticas, desvendamos um mundo rico em diversidade e adaptação. Cada espécie tem sua própria história para contar, e por meio desses dados, conseguimos vislumbrar um pouco de sua jornada emocionante e única."
      ],
      "metadata": {
        "id": "_y3Pe7zoYoJK"
      }
    },
    {
      "cell_type": "code",
      "source": [
        "import pandas as pd\n",
        "\n",
        "# Caminho para o arquivo CSV\n",
        "file_path = '/content/penguins (1).csv'\n",
        "\n",
        "# Lendo o arquivo CSV em um DataFrame do Pandas\n",
        "df = pd.read_csv(file_path)\n",
        "\n",
        "# Mostrando as primeiras linhas do DataFrame\n",
        "print(df.head())\n"
      ],
      "metadata": {
        "colab": {
          "base_uri": "https://localhost:8080/"
        },
        "id": "RkulTmVrUD1p",
        "outputId": "4a07f1f9-4abc-4780-8c30-1370738777ce"
      },
      "execution_count": 2,
      "outputs": [
        {
          "output_type": "stream",
          "name": "stdout",
          "text": [
            "   Unnamed: 0 species     island  bill_length_mm  bill_depth_mm  \\\n",
            "0           1  Adelie  Torgersen            39.1           18.7   \n",
            "1           2  Adelie  Torgersen            39.5           17.4   \n",
            "2           3  Adelie  Torgersen            40.3           18.0   \n",
            "3           4  Adelie  Torgersen             NaN            NaN   \n",
            "4           5  Adelie  Torgersen            36.7           19.3   \n",
            "\n",
            "   flipper_length_mm  body_mass_g     sex  year  \n",
            "0              181.0       3750.0    male  2007  \n",
            "1              186.0       3800.0  female  2007  \n",
            "2              195.0       3250.0  female  2007  \n",
            "3                NaN          NaN     NaN  2007  \n",
            "4              193.0       3450.0  female  2007  \n"
          ]
        }
      ]
    },
    {
      "cell_type": "code",
      "source": [
        "# Obtendo os nomes das colunas\n",
        "colunas = df.columns\n",
        "\n",
        "# Mostrando os nomes das colunas\n",
        "print(colunas)"
      ],
      "metadata": {
        "colab": {
          "base_uri": "https://localhost:8080/"
        },
        "id": "B9JsIrTnUIz4",
        "outputId": "3cc3d2df-b7e6-4c43-d0d9-7633b974dae7"
      },
      "execution_count": 3,
      "outputs": [
        {
          "output_type": "stream",
          "name": "stdout",
          "text": [
            "Index(['Unnamed: 0', 'species', 'island', 'bill_length_mm', 'bill_depth_mm',\n",
            "       'flipper_length_mm', 'body_mass_g', 'sex', 'year'],\n",
            "      dtype='object')\n"
          ]
        }
      ]
    },
    {
      "cell_type": "code",
      "source": [
        "data_dictionary = {\n",
        "    'species': \"Espécie do pinguim (Adélia, Pintado, Papúa)\",\n",
        "    'island': \"Ilha onde o pinguim foi observado (Torgersen, Biscoe, Dream)\",\n",
        "    'bill_length_mm': \"Comprimento do bico em milímetros\",\n",
        "    'bill_depth_mm': \"Profundidade do bico em milímetros\",\n",
        "    'flipper_length_mm': \"Comprimento da nadadeira em milímetros\",\n",
        "    'body_mass_g': \"Massa corporal do pinguim em gramas\",\n",
        "    'sex': \"Sexo do pinguim (Male, Female)\",\n",
        "    'year': \"Ano da observação\"}"
      ],
      "metadata": {
        "id": "qF0vLEpuUciw"
      },
      "execution_count": 6,
      "outputs": []
    },
    {
      "cell_type": "markdown",
      "source": [
        "#Dicionário de dados\n",
        "\n",
        "\n"
      ],
      "metadata": {
        "id": "M9wPoys1UW2A"
      }
    },
    {
      "cell_type": "code",
      "source": [
        "print(data_dictionary['species'])\n"
      ],
      "metadata": {
        "colab": {
          "base_uri": "https://localhost:8080/"
        },
        "id": "x4TIA-NfUQLB",
        "outputId": "b2861486-8e7d-4212-da0e-09de1d479789"
      },
      "execution_count": 7,
      "outputs": [
        {
          "output_type": "stream",
          "name": "stdout",
          "text": [
            "Espécie do pinguim (Adélia, Pintado, Papúa)\n"
          ]
        }
      ]
    },
    {
      "cell_type": "code",
      "source": [
        "# Balancear as amostras das espécies\n",
        "balanced_df = pd.DataFrame()\n",
        "for species in df['species'].unique():\n",
        "    species_df = df[df['species'] == species]\n",
        "    species_sampled = resample(species_df, replace=True, n_samples=len(df['species']), random_state=42)\n",
        "    balanced_df = pd.concat([balanced_df, species_sampled])\n",
        "\n",
        "# Verificar o balanceamento das amostras - dados balanceados\n",
        "print(balanced_df['species'].value_counts())\n",
        "\n",
        "# Agora você pode usar o balanced_df para análises e modelagem\n"
      ],
      "metadata": {
        "colab": {
          "base_uri": "https://localhost:8080/"
        },
        "id": "NFq_lQkDY78p",
        "outputId": "a900643c-8b52-4ed2-e773-232dd044e08c"
      },
      "execution_count": 25,
      "outputs": [
        {
          "output_type": "stream",
          "name": "stdout",
          "text": [
            "Adelie       344\n",
            "Gentoo       344\n",
            "Chinstrap    344\n",
            "Name: species, dtype: int64\n"
          ]
        }
      ]
    },
    {
      "cell_type": "code",
      "source": [
        "# Verificar o balanceamento das amostras - dados originais\n",
        "print(df['species'].value_counts())"
      ],
      "metadata": {
        "colab": {
          "base_uri": "https://localhost:8080/"
        },
        "id": "1EdY1pvBZZJ0",
        "outputId": "9014b2c9-672b-4f25-feab-b7bff329059f"
      },
      "execution_count": 27,
      "outputs": [
        {
          "output_type": "stream",
          "name": "stdout",
          "text": [
            "Adelie       152\n",
            "Gentoo       124\n",
            "Chinstrap     68\n",
            "Name: species, dtype: int64\n"
          ]
        }
      ]
    },
    {
      "cell_type": "code",
      "source": [
        "# Agrupar dados por espécie e ilha, contando o número de ocorrências\n",
        "species_island_counts = df.groupby(['island', 'species']).size().unstack().fillna(0)\n",
        "\n",
        "# Plotar o gráfico de barras empilhadas\n",
        "species_island_counts.plot(kind='bar', stacked=True, figsize=(10, 6))\n",
        "plt.xlabel('Ilha')\n",
        "plt.ylabel('Contagem')\n",
        "plt.title('Distribuição de Espécies de Pinguins por Local')\n",
        "plt.xticks(rotation=0)\n",
        "plt.tight_layout()\n",
        "plt.show()\n",
        "\n"
      ],
      "metadata": {
        "colab": {
          "base_uri": "https://localhost:8080/",
          "height": 593
        },
        "id": "MIrzh5OPVK7x",
        "outputId": "10b9654c-ab02-4289-e4d6-9650c893f827"
      },
      "execution_count": 12,
      "outputs": [
        {
          "output_type": "display_data",
          "data": {
            "text/plain": [
              "<Figure size 1000x600 with 1 Axes>"
            ],
            "image/png": "[encoded data removed]"
          },
          "metadata": {}
        }
      ]
    },
    {
      "cell_type": "code",
      "source": [
        "# Agrupar dados por espécie e ilha, contando o número de ocorrências ->> Dados  balanceados\n",
        "species_island_counts = balanced_df.groupby(['island', 'species']).size().unstack().fillna(0)\n",
        "\n",
        "# Plotar o gráfico de barras empilhadas\n",
        "species_island_counts.plot(kind='bar', stacked=True, figsize=(10, 6))\n",
        "plt.xlabel('Ilha')\n",
        "plt.ylabel('Contagem')\n",
        "plt.title('Distribuição de Espécies de Pinguins por Local')\n",
        "plt.xticks(rotation=0)\n",
        "plt.tight_layout()\n",
        "plt.show()\n"
      ],
      "metadata": {
        "colab": {
          "base_uri": "https://localhost:8080/",
          "height": 593
        },
        "id": "UYGroSc3ZLAC",
        "outputId": "e54e8b98-d350-4c3b-aa68-67d8b13fed9b"
      },
      "execution_count": 26,
      "outputs": [
        {
          "output_type": "display_data",
          "data": {
            "text/plain": [
              "<Figure size 1000x600 with 1 Axes>"
            ],
            "image/png": "[encoded data removed]"
          },
          "metadata": {}
        }
      ]
    },
    {
      "cell_type": "code",
      "source": [
        "# Remover a coluna \"Unnamed: 0\"\n",
        "balanced_df = balanced_df.drop(columns=['Unnamed: 0'])\n",
        "\n",
        "# Calculando a matriz de correlação\n",
        "correlation_matrix = balanced_df.corr()\n",
        "\n",
        "# Plotando o mapa de calor da matriz de correlação\n",
        "plt.figure(figsize=(10, 6))\n",
        "sns.heatmap(correlation_matrix, annot=True, cmap='coolwarm', center=0)\n",
        "plt.title('Matriz de Correlação entre Variáveis (sem Unnamed: 0)')\n",
        "plt.show()\n"
      ],
      "metadata": {
        "colab": {
          "base_uri": "https://localhost:8080/",
          "height": 629
        },
        "id": "jxXrLXmvVhEg",
        "outputId": "269529d6-25ad-48a7-fe42-96da68cda254"
      },
      "execution_count": 29,
      "outputs": [
        {
          "output_type": "stream",
          "name": "stderr",
          "text": [
            "<ipython-input-29-e54101b7edd3>:5: FutureWarning:\n",
            "\n",
            "The default value of numeric_only in DataFrame.corr is deprecated. In a future version, it will default to False. Select only valid columns or specify the value of numeric_only to silence this warning.\n",
            "\n"
          ]
        },
        {
          "output_type": "display_data",
          "data": {
            "text/plain": [
              "<Figure size 1000x600 with 2 Axes>"
            ],
            "image/png": "[encoded data removed]"
          },
          "metadata": {}
        }
      ]
    },
    {
      "cell_type": "code",
      "source": [
        "# Variáveis a serem relacionadas\n",
        "variables_to_compare = ['island', 'sex', 'year']\n",
        "\n",
        "# Loop através das variáveis para criar gráficos de barras empilhadas\n",
        "for variable in variables_to_compare:\n",
        "    stacked_data = balanced_df.groupby(['species', variable]).size().unstack().fillna(0)\n",
        "    stacked_data.plot(kind='bar', stacked=True, figsize=(10, 6))\n",
        "    plt.xlabel('Espécie')\n",
        "    plt.ylabel('Contagem')\n",
        "    plt.title(f'Gráfico de Barras Empilhadas por {variable.capitalize()} e Espécies')\n",
        "    plt.xticks(rotation=0)\n",
        "    plt.tight_layout()\n",
        "    plt.show()\n"
      ],
      "metadata": {
        "colab": {
          "base_uri": "https://localhost:8080/",
          "height": 1000
        },
        "id": "L7Tk6huKWMeQ",
        "outputId": "685721b0-c771-4784-8c26-21f2210ab337"
      },
      "execution_count": 31,
      "outputs": [
        {
          "output_type": "display_data",
          "data": {
            "text/plain": [
              "<Figure size 1000x600 with 1 Axes>"
            ],
            "image/png": "[encoded data removed]"
          },
          "metadata": {}
        },
        {
          "output_type": "display_data",
          "data": {
            "text/plain": [
              "<Figure size 1000x600 with 1 Axes>"
            ],
            "image/png": "[encoded data removed]"
          },
          "metadata": {}
        },
        {
          "output_type": "display_data",
          "data": {
            "text/plain": [
              "<Figure size 1000x600 with 1 Axes>"
            ],
            "image/png": "[encoded data removed]"
          },
          "metadata": {}
        }
      ]
    },
    {
      "cell_type": "code",
      "source": [
        "\n",
        "# Remover a coluna \"Unnamed: 0\" se estiver presente\n",
        "if 'Unnamed: 0' in balanced_df.columns:\n",
        "    balanced_df = balanced_df.drop(columns=['Unnamed: 0'])\n",
        "\n",
        "# Criando o relatório com o Sweetviz\n",
        "report = sv.analyze(balanced_df)\n",
        "\n",
        "# Mostrando o relatório no navegador\n",
        "report.show_html('penguins_report.html')\n"
      ],
      "metadata": {
        "colab": {
          "base_uri": "https://localhost:8080/",
          "height": 86,
          "referenced_widgets": [
            "d55cab9746304b149075763dc1533a02",
            "300cca9793274ad3a958a27028023281",
            "65e7fd21f1474df4ab553466bc7a8b81",
            "b28b902c87dc4c88ae03a7c18f7f4e74",
            "e05287be33414a068f547a30f2823396",
            "2e5bc8c672e04cdfa2f1c4848e5737d5",
            "86bb3b3952a04d41b5ca78de8d0c7546",
            "ba1568ed9eb84293b13093718b16adba",
            "0291b7c9b31f4b0c87e3998d20e68be6",
            "70e40616e73b457c86e1ae80873984ae",
            "8b819798c6974717be066d1ba356bb66"
          ]
        },
        "id": "QA9QsIZFWqNx",
        "outputId": "86c96f9a-88d1-43f9-fffe-5a6313ff1c37"
      },
      "execution_count": 35,
      "outputs": [
        {
          "output_type": "display_data",
          "data": {
            "text/plain": [
              "                                             |          | [  0%]   00:00 -> (? left)"
            ],
            "application/vnd.jupyter.widget-view+json": {
              "version_major": 2,
              "version_minor": 0,
              "model_id": "d55cab9746304b149075763dc1533a02"
            }
          },
          "metadata": {}
        },
        {
          "output_type": "stream",
          "name": "stdout",
          "text": [
            "Report penguins_report.html was generated! NOTEBOOK/COLAB USERS: the web browser MAY not pop up, regardless, the report IS saved in your notebook/colab files.\n"
          ]
        }
      ]
    },
    {
      "cell_type": "code",
      "source": [
        "from pandas_profiling import ProfileReport\n",
        "import pandas as pd\n",
        "\n",
        "# Assuming you have a DataFrame named 'data'\n",
        "report = ProfileReport(balanced_df)"
      ],
      "metadata": {
        "id": "wATI3h1KbLXj"
      },
      "execution_count": 38,
      "outputs": []
    },
    {
      "cell_type": "markdown",
      "source": [
        "O relatório de análise estatística descritiva que você forneceu contém informações valiosas sobre o conjunto de dados. Aqui está um resumo das principais informações apresentadas no relatório:\n",
        "\n",
        "Overview\n",
        "\n",
        "O relatório apresenta algumas informações gerais sobre o conjunto de dados, incluindo o número de variáveis (8) e o número de observações (1032).\n",
        "O relatório também destaca algumas estatísticas sobre valores ausentes, duplicatas e o tamanho total do conjunto de dados em memória.\n",
        "Variáveis\n",
        "\n",
        "O relatório fornece informações detalhadas sobre cada variável no conjunto de dados.\n",
        "Cada variável é categorizada como \"Categorical\" ou \"Numeric\", dependendo do tipo de dados que ela contém.\n",
        "Categorical Variables\n",
        "\n",
        "Existem várias variáveis categóricas no conjunto de dados, incluindo 'species', 'island', 'sex' e 'year'.\n",
        "Cada variável categórica possui uma contagem de valores distintos, informações sobre valores ausentes e o tamanho em memória.\n",
        "Numeric Variables\n",
        "\n",
        "Existem quatro variáveis numéricas: 'bill_length_mm', 'bill_depth_mm', 'flipper_length_mm' e 'body_mass_g'.\n",
        "Cada variável numérica possui informações estatísticas, incluindo valores distintos, valores ausentes, valores infinitos (se houver), média, mínimo, máximo e outras métricas.\n",
        "Interactions\n",
        "\n",
        "Esta seção destaca as interações entre variáveis, como a correlação entre diferentes variáveis.\n",
        "Missing values\n",
        "\n",
        "O relatório apresenta informações sobre valores ausentes no conjunto de dados, mostrando quantos valores estão ausentes em cada variável.\n",
        "Duplicate rows\n",
        "\n",
        "Esta seção identifica as linhas duplicadas no conjunto de dados, mostrando as observações que ocorrem com mais frequência e quantas duplicatas elas têm.\n",
        "Sample\n",
        "\n",
        "Mostra exemplos das primeiras e últimas linhas do conjunto de dados.\n",
        "Este relatório fornece uma visão geral detalhada das estatísticas descritivas do conjunto de dados, incluindo distribuições, estatísticas resumidas, valores ausentes e duplicatas. Essas informações são fundamentais para entender a qualidade dos dados e guiar análises mais aprofundadas ou preparação dos dados para modelagem."
      ],
      "metadata": {
        "id": "DAZH-C4ZcSHD"
      }
    },
    {
      "cell_type": "code",
      "source": [
        "# Remover a coluna \"Unnamed: 0\" se estiver presente\n",
        "if 'Unnamed: 0' in balanced_df.columns:\n",
        "    balanced_df = balanced_df.drop(columns=['Unnamed: 0'])\n",
        "\n",
        "# Criando o relatório com o pandas-profiling\n",
        "report = ProfileReport(balanced_df)\n",
        "\n",
        "# Salvando o relatório em um arquivo HTML\n",
        "report.to_file(\"penguins_profiling_report.html\")\n",
        "\n",
        "# Abrindo o relatório no navegador\n",
        "webbrowser.open(\"penguins_profiling_report.html\")\n"
      ],
      "metadata": {
        "colab": {
          "base_uri": "https://localhost:8080/",
          "height": 388,
          "referenced_widgets": [
            "63dab6605d90495facfe3b2cc92ee769",
            "2151e9b816c14fc8903b2fccf7de6b02",
            "781fc28682b7462eb06722153828e5f5",
            "d3212e3e20364de69d3b3d363d908520",
            "4aff1935e57e4e1695699532c06d2b76",
            "16ed8871118b4fe4a846e7bbeca1cbbb",
            "bb799dcbe5884e7ca1575669222eedb6",
            "0f59fb219b904dccacc96dbcd091ed33",
            "bd7519a33c214a66a412d0af569db52a",
            "435ef7caeb674c71acc7ad255ce8ae2c",
            "97e64bd3745843f0be775543fc741236",
            "4fb467d31ec14be3a40029d5192715c4",
            "7aec248c89dc43a087bed06134933b8c",
            "13d11372b1a14bbc92a40a5d757408b7",
            "665958582c224beaab96d7f84bf8dced",
            "414f9450ac5d432b9ca7fbe0386ff4fc",
            "fb7d7daf0a204bbc893d58a7edd3a716",
            "94f9c73aaae9417c9381a9ae1f2728c9",
            "f092a50e47ed4f168ac0b59bf86e79de",
            "993152203f514b7ea7e348960fd8ac1a",
            "91b98737dc9744c4b5ab8c91ebd23865",
            "632f9154e46c4db49de659058d884cb3",
            "a66590bc10a547d99db3b020a7c820ba",
            "3af571341b1a458a90ed94cc087fb639",
            "5eb588226b964af990e57500983f0f75",
            "cc7ebab91afc44bbb58a6a030db9ceda",
            "066908b55251459385f3e40f01dea84f",
            "45d25455c1ef42d092de3ad7c762b9ec",
            "06bac97f678b41a7a19b14c08a08497b",
            "6b164dd697c14ebb9bdba46b87c0af5a",
            "2829fa5138a04069a84f447d839a7196",
            "0df530993a4e4b01ba3d81c570f8f803",
            "474dda6404c6426badb919da7e18d4d2",
            "74d8e2ef42204672a08dda8502ee91c8",
            "448994bac16c48839ac0b1f798d2b5a5",
            "cf7183cd813947c9812589833fb5d5a6",
            "e763f99870b343f5aab3f18e04c8ffaf",
            "f94698b5fab24bcd91a2e99aa283970b",
            "f18637d7b8e641d7b9f69ff2ae17800d",
            "1db96b78138b4eacae54bce100f09a4f",
            "99de3f7d6503445ea72d2dfab69b6727",
            "f9fc28c6cfce497591eb4f102136d227",
            "9c58d9aade414dada84a78c85e70c7a7",
            "917a0802411546718f19f1533e8a29e7"
          ]
        },
        "id": "AjSi0nfmavqb",
        "outputId": "fc732711-7c7b-4dfc-f767-5f4f101c00b8"
      },
      "execution_count": 41,
      "outputs": [
        {
          "output_type": "display_data",
          "data": {
            "text/plain": [
              "Summarize dataset:   0%|          | 0/5 [00:00<?, ?it/s]"
            ],
            "application/vnd.jupyter.widget-view+json": {
              "version_major": 2,
              "version_minor": 0,
              "model_id": "63dab6605d90495facfe3b2cc92ee769"
            }
          },
          "metadata": {}
        },
        {
          "output_type": "stream",
          "name": "stderr",
          "text": [
            "/usr/local/lib/python3.10/dist-packages/multimethod/__init__.py:315: FutureWarning:\n",
            "\n",
            "reindexing with a non-unique Index is deprecated and will raise in a future version.\n",
            "\n",
            "/usr/local/lib/python3.10/dist-packages/pandas_profiling/model/correlations.py:67: UserWarning:\n",
            "\n",
            "There was an attempt to calculate the auto correlation, but this failed.\n",
            "To hide this warning, disable the calculation\n",
            "(using `df.profile_report(correlations={\"auto\": {\"calculate\": False}})`\n",
            "If this is problematic for your use case, please report this as an issue:\n",
            "https://github.com/ydataai/pandas-profiling/issues\n",
            "(include the error message: 'cannot reindex on an axis with duplicate labels')\n",
            "\n"
          ]
        },
        {
          "output_type": "display_data",
          "data": {
            "text/plain": [
              "Generate report structure:   0%|          | 0/1 [00:00<?, ?it/s]"
            ],
            "application/vnd.jupyter.widget-view+json": {
              "version_major": 2,
              "version_minor": 0,
              "model_id": "4fb467d31ec14be3a40029d5192715c4"
            }
          },
          "metadata": {}
        },
        {
          "output_type": "display_data",
          "data": {
            "text/plain": [
              "Render HTML:   0%|          | 0/1 [00:00<?, ?it/s]"
            ],
            "application/vnd.jupyter.widget-view+json": {
              "version_major": 2,
              "version_minor": 0,
              "model_id": "a66590bc10a547d99db3b020a7c820ba"
            }
          },
          "metadata": {}
        },
        {
          "output_type": "display_data",
          "data": {
            "text/plain": [
              "Export report to file:   0%|          | 0/1 [00:00<?, ?it/s]"
            ],
            "application/vnd.jupyter.widget-view+json": {
              "version_major": 2,
              "version_minor": 0,
              "model_id": "74d8e2ef42204672a08dda8502ee91c8"
            }
          },
          "metadata": {}
        },
        {
          "output_type": "execute_result",
          "data": {
            "text/plain": [
              "False"
            ]
          },
          "metadata": {},
          "execution_count": 41
        }
      ]
    }
  ]
}